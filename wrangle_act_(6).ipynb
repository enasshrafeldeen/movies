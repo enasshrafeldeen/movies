{
  "cells": [
    {
      "cell_type": "markdown",
      "metadata": {
        "id": "view-in-github",
        "colab_type": "text"
      },
      "source": [
        "<a href=\"https://colab.research.google.com/github/enasshrafeldeen/movies/blob/main/wrangle_act_(6).ipynb\" target=\"_parent\"><img src=\"https://colab.research.google.com/assets/colab-badge.svg\" alt=\"Open In Colab\"/></a>"
      ]
    },
    {
      "cell_type": "markdown",
      "id": "9635c747-46b4-483a-b8ee-3d1fb7387306",
      "metadata": {
        "id": "9635c747-46b4-483a-b8ee-3d1fb7387306"
      },
      "source": [
        "# Libraries"
      ]
    },
    {
      "cell_type": "code",
      "execution_count": null,
      "id": "04c2da49-3660-4f90-95e4-71de6a57e745",
      "metadata": {
        "id": "04c2da49-3660-4f90-95e4-71de6a57e745"
      },
      "outputs": [],
      "source": [
        "# Importing necessary libraries\n",
        "import pandas as pd\n",
        "import numpy as np\n",
        "import requests as rq\n",
        "import json\n"
      ]
    },
    {
      "cell_type": "markdown",
      "id": "53dcd24f-9b82-479c-90e0-6a425280843b",
      "metadata": {
        "id": "53dcd24f-9b82-479c-90e0-6a425280843b"
      },
      "source": [
        "# Reading files"
      ]
    },
    {
      "cell_type": "code",
      "execution_count": null,
      "id": "4a089ba4-0c10-40e2-b4d9-a4541b70ecee",
      "metadata": {
        "id": "4a089ba4-0c10-40e2-b4d9-a4541b70ecee",
        "scrolled": true
      },
      "outputs": [],
      "source": [
        "df1 = pd.read_csv(\"twitter-archive-enhanced (2).csv\")\n",
        "df1.head()"
      ]
    },
    {
      "cell_type": "code",
      "execution_count": null,
      "id": "b8254f6b-f7f6-4e56-945a-4a25468de1a7",
      "metadata": {
        "id": "b8254f6b-f7f6-4e56-945a-4a25468de1a7"
      },
      "outputs": [],
      "source": [
        "import pandas as pd\n",
        "\n",
        "# Load the clean file\n",
        "df2 = pd.read_csv('image-predictions (2).tsv', sep='\\t')\n",
        "\n",
        "# Preview the columns\n",
        "print(df2)\n"
      ]
    },
    {
      "cell_type": "code",
      "execution_count": null,
      "id": "911b8373-80c3-4735-997a-47af1aab14d2",
      "metadata": {
        "id": "911b8373-80c3-4735-997a-47af1aab14d2"
      },
      "outputs": [],
      "source": [
        "import pandas as pd\n",
        "\n",
        "# Load the clean file\n",
        "df3 = pd.read_csv('tweet-json (1).json', sep='\\t')\n",
        "\n",
        "# Preview the columns\n",
        "print(df3)\n"
      ]
    },
    {
      "cell_type": "markdown",
      "id": "3087da67-cfb2-4b15-bc95-2d70b09d6378",
      "metadata": {
        "id": "3087da67-cfb2-4b15-bc95-2d70b09d6378"
      },
      "source": [
        "# Assessing data"
      ]
    },
    {
      "cell_type": "code",
      "execution_count": null,
      "id": "7840c169-4b93-4e06-8c56-6dbb084cc5c7",
      "metadata": {
        "id": "7840c169-4b93-4e06-8c56-6dbb084cc5c7"
      },
      "outputs": [],
      "source": [
        "# show the shape of our data\n",
        "df1.shape"
      ]
    },
    {
      "cell_type": "code",
      "execution_count": null,
      "id": "b22d25b4-7f82-4162-b334-dbeed1559a29",
      "metadata": {
        "id": "b22d25b4-7f82-4162-b334-dbeed1559a29"
      },
      "outputs": [],
      "source": [
        "# explore p.1\n",
        "df1.describe()\n",
        "df1.info()"
      ]
    },
    {
      "cell_type": "code",
      "execution_count": null,
      "id": "0630ec72-fa78-4746-845d-d2e25cdb3f0a",
      "metadata": {
        "id": "0630ec72-fa78-4746-845d-d2e25cdb3f0a"
      },
      "outputs": [],
      "source": [
        "# show the shape of our data\n",
        "df2.shape"
      ]
    },
    {
      "cell_type": "code",
      "execution_count": null,
      "id": "24dd9c23-5b75-47fd-9353-29d5c0054bcd",
      "metadata": {
        "id": "24dd9c23-5b75-47fd-9353-29d5c0054bcd"
      },
      "outputs": [],
      "source": [
        "# explore p.2\n",
        "df2.describe()\n",
        "df2.info()"
      ]
    },
    {
      "cell_type": "code",
      "execution_count": null,
      "id": "77cb2c3d-c3fb-4ac9-8999-4f058824e405",
      "metadata": {
        "id": "77cb2c3d-c3fb-4ac9-8999-4f058824e405"
      },
      "outputs": [],
      "source": [
        "# show the shape of our data\n",
        "df2.shape"
      ]
    },
    {
      "cell_type": "code",
      "execution_count": null,
      "id": "77aa37a0-796e-4c74-b76d-0a7d1563ab17",
      "metadata": {
        "id": "77aa37a0-796e-4c74-b76d-0a7d1563ab17"
      },
      "outputs": [],
      "source": [
        "# explore p.3\n",
        "df2.describe()\n",
        "df2.info()"
      ]
    },
    {
      "cell_type": "markdown",
      "id": "b88757eb-d9ed-4a2e-9d0c-4f21c52ed9fc",
      "metadata": {
        "id": "b88757eb-d9ed-4a2e-9d0c-4f21c52ed9fc"
      },
      "source": [
        "# Quality Issues – Detect"
      ]
    },
    {
      "cell_type": "code",
      "execution_count": null,
      "id": "f795f3c8-946b-4c72-9b20-0c321f94a7e8",
      "metadata": {
        "id": "f795f3c8-946b-4c72-9b20-0c321f94a7e8"
      },
      "outputs": [],
      "source": [
        "df_archive_clean = df1.copy()\n",
        "df_image_clean = df2.copy()\n",
        "df_json_clean = df3.copy()\n"
      ]
    },
    {
      "cell_type": "code",
      "execution_count": null,
      "id": "94d3d552-569e-4052-97de-cdcad4f1db4d",
      "metadata": {
        "id": "94d3d552-569e-4052-97de-cdcad4f1db4d"
      },
      "outputs": [],
      "source": [
        "# 1. Retweets present\n",
        "retweets = df_archive_clean[df_archive_clean.retweeted_status_id.notnull()]\n",
        "\n",
        "# 2. Incorrect datatypes\n",
        "print(df_archive_clean.dtypes[['tweet_id', 'timestamp']])  # Should be str and datetime\n",
        "\n",
        "# 3. Inconsistent ratings\n",
        "df_archive_clean[['rating_numerator', 'rating_denominator']].describe()\n",
        "\n",
        "# 4. Rating denominators not always 10\n",
        "df_archive_clean[df_archive_clean['rating_denominator'] != 10]\n",
        "\n",
        "# 5. Invalid dog names\n",
        "invalid_names = df_archive_clean['name'].str.lower().isin(['a', 'an', 'the', 'none'])\n",
        "df_archive_clean[invalid_names]\n",
        "\n",
        "# 6. Multiple dog stages\n",
        "df_archive_clean[df_archive_clean[['doggo', 'floofer', 'pupper', 'puppo']].apply(lambda x: sum(x == 'doggo') + sum(x == 'floofer') + sum(x == 'pupper') + sum(x == 'puppo'), axis=1) > 1]\n",
        "\n",
        "# 7. Missing image predictions\n",
        "missing_images = ~df_archive_clean['tweet_id'].isin(df_image_clean['tweet_id'])\n",
        "\n",
        "# 8. Breed prediction not a dog\n",
        "non_dogs = df_image_clean[df_image_clean['p1_dog'] == False]\n"
      ]
    },
    {
      "cell_type": "markdown",
      "id": "06db4d51-341c-4eef-babe-5650973e8c16",
      "metadata": {
        "id": "06db4d51-341c-4eef-babe-5650973e8c16"
      },
      "source": [
        "# Tidiness Issues – Detect"
      ]
    },
    {
      "cell_type": "code",
      "execution_count": null,
      "id": "e488ab1c-54ca-438b-ae2a-40ea5fff25c8",
      "metadata": {
        "id": "e488ab1c-54ca-438b-ae2a-40ea5fff25c8"
      },
      "outputs": [],
      "source": [
        "# 1 Dog stages in multiple columns\n",
        "df_archive_clean[['doggo', 'floofer', 'pupper', 'puppo']].info()\n",
        "\n",
        "# 2 Three separate tables\n"
      ]
    },
    {
      "cell_type": "markdown",
      "id": "a0b8ae04-3d4a-4226-8b99-ac8082b0279a",
      "metadata": {
        "id": "a0b8ae04-3d4a-4226-8b99-ac8082b0279a"
      },
      "source": [
        "# Cleaning data"
      ]
    },
    {
      "cell_type": "code",
      "execution_count": null,
      "id": "c0b03f25-4425-4af9-9a42-1fa33005611f",
      "metadata": {
        "id": "c0b03f25-4425-4af9-9a42-1fa33005611f"
      },
      "outputs": [],
      "source": [
        "# the numer of nulls\n",
        "df1.isnull().sum()"
      ]
    },
    {
      "cell_type": "code",
      "execution_count": null,
      "id": "84a31688-39e4-4f24-87b8-e817aa0c5a54",
      "metadata": {
        "id": "84a31688-39e4-4f24-87b8-e817aa0c5a54"
      },
      "outputs": [],
      "source": [
        "# the number of nulls p.2\n",
        "df2.isnull().sum()"
      ]
    },
    {
      "cell_type": "code",
      "execution_count": null,
      "id": "00700610-4de8-4be8-8f1d-f7e9db1e3cac",
      "metadata": {
        "id": "00700610-4de8-4be8-8f1d-f7e9db1e3cac"
      },
      "outputs": [],
      "source": [
        "# the number of nulls p.3\n",
        "df3.isnull().sum()"
      ]
    },
    {
      "cell_type": "code",
      "execution_count": null,
      "id": "7008d078-0d67-4c93-abe8-dd3339b03656",
      "metadata": {
        "id": "7008d078-0d67-4c93-abe8-dd3339b03656"
      },
      "outputs": [],
      "source": [
        "# drop the nulls p.1\n",
        "def remove_null_columns(df1):\n",
        "    return df1.dropna(axis=1, how='all')"
      ]
    },
    {
      "cell_type": "code",
      "execution_count": null,
      "id": "c2ffb4aa-016d-47fa-bc3c-fa892ac2d884",
      "metadata": {
        "id": "c2ffb4aa-016d-47fa-bc3c-fa892ac2d884"
      },
      "outputs": [],
      "source": [
        "# drop the nulls p.2\n",
        "def remove_null_columns(df2):\n",
        "    return df2.dropna(axis=1, how='all')"
      ]
    },
    {
      "cell_type": "code",
      "execution_count": null,
      "id": "adfbb446-d4b3-4326-8272-598e6c12122d",
      "metadata": {
        "id": "adfbb446-d4b3-4326-8272-598e6c12122d"
      },
      "outputs": [],
      "source": [
        "# drop the nulls p.3\n",
        "def remove_null_columns(df3):\n",
        "    return df3.dropna(axis=1, how='all')"
      ]
    },
    {
      "cell_type": "code",
      "execution_count": null,
      "id": "31c2ed86-6060-45a1-98ca-b240ddbbe4eb",
      "metadata": {
        "id": "31c2ed86-6060-45a1-98ca-b240ddbbe4eb"
      },
      "outputs": [],
      "source": [
        "df1.isna().mean()\n",
        "df1.info()"
      ]
    },
    {
      "cell_type": "code",
      "execution_count": null,
      "id": "418aaf15-d69e-4ab5-8894-dcd54d1e2645",
      "metadata": {
        "id": "418aaf15-d69e-4ab5-8894-dcd54d1e2645"
      },
      "outputs": [],
      "source": [
        "df2.isna().mean()\n",
        "df2.info()"
      ]
    },
    {
      "cell_type": "code",
      "execution_count": null,
      "id": "57f10f71-00fd-40a6-b7a9-bf3a18dce367",
      "metadata": {
        "id": "57f10f71-00fd-40a6-b7a9-bf3a18dce367"
      },
      "outputs": [],
      "source": [
        "df3.isna().mean()\n",
        "df3.info()"
      ]
    },
    {
      "cell_type": "code",
      "execution_count": null,
      "id": "46b3e1ab-5d1d-4600-9a64-7fc1267391db",
      "metadata": {
        "id": "46b3e1ab-5d1d-4600-9a64-7fc1267391db"
      },
      "outputs": [],
      "source": [
        "# remove retweets\n",
        "def remove_retweets(df):\n",
        "    return df[df['retweeted_status_id'].isnull()]\n",
        "\n",
        "# convert data types\n",
        "def convert_dtypes(df):\n",
        "    df['tweet_id'] = df['tweet_id'].astype(str)  # Change tweet_id to string\n",
        "    df['timestamp'] = pd.to_datetime(df['timestamp'])  # Change timestamp to datetime\n",
        "    return df\n",
        "\n",
        "# keep only tweets with rating out of 10\n",
        "def standardize_ratings(df):\n",
        "    return df[df['rating_denominator'] == 10]\n",
        "\n",
        "# clean wrong dog names\n",
        "def clean_dog_names(df):\n",
        "    df['name'] = df['name'].replace(['a', 'an', 'the', 'None'], pd.NA)\n",
        "    return df\n",
        "\n",
        "# combine dog stages into one column\n",
        "def combine_dog_stages(df):\n",
        "    stages = ['doggo', 'floofer', 'pupper', 'puppo']\n",
        "    df['dog_stage'] = df[stages].apply(lambda row: ','.join(row[row != 'None']), axis=1)\n",
        "    df['dog_stage'] = df['dog_stage'].replace('', pd.NA)\n",
        "    df = df.drop(columns=stages)\n",
        "    return df\n",
        "\n",
        "# keep only rows where the prediction is a dog\n",
        "def remove_non_dog_predictions(df):\n",
        "    return df[df['p1_dog'] == True]\n",
        "\n",
        "# merge all dataframes\n",
        "def merge_datasets(archive_df, image_df, json_df):\n",
        "    df = archive_df.merge(image_df, on='tweet_id', how='left')\n",
        "    df = df.merge(json_df, on='tweet_id', how='left')\n",
        "    return df"
      ]
    },
    {
      "cell_type": "code",
      "execution_count": null,
      "id": "b300a0bf-6c5c-4a2c-b5d4-000b19a4d3e8",
      "metadata": {
        "id": "b300a0bf-6c5c-4a2c-b5d4-000b19a4d3e8"
      },
      "outputs": [],
      "source": [
        "import pandas as pd\n",
        "\n",
        "# 1. Load the data files\n",
        "archive = pd.read_csv('twitter-archive-enhanced (2).csv')\n",
        "image = pd.read_csv('image-predictions (2).tsv', sep='\\t')\n",
        "tweet = pd.read_json('tweet-json (1).json', lines=True)\n",
        "\n",
        "# 2. Remove retweets and replies\n",
        "archive = archive[archive['retweeted_status_id'].isna()]\n",
        "archive = archive[archive['in_reply_to_status_id'].isna()]\n",
        "\n",
        "# 3. Drop columns we don't need\n",
        "archive = archive.drop([\n",
        "    'retweeted_status_id', 'retweeted_status_user_id', 'retweeted_status_timestamp',\n",
        "    'in_reply_to_status_id', 'in_reply_to_user_id'\n",
        "], axis=1)\n",
        "\n",
        "# 4. Convert tweet_id to string and fix date format\n",
        "archive['tweet_id'] = archive['tweet_id'].astype(str)\n",
        "image['tweet_id'] = image['tweet_id'].astype(str)\n",
        "tweet['tweet_id'] = tweet['id_str'].astype(str)\n",
        "archive['timestamp'] = pd.to_datetime(archive['timestamp'])\n",
        "\n",
        "# 5. Combine dog stages into one column\n",
        "archive['dog_stage'] = archive[['doggo', 'floofer', 'pupper', 'puppo']].apply(\n",
        "    lambda row: ','.join([stage for stage in row.index if row[stage] == stage]), axis=1)\n",
        "\n",
        "# 6. Drop the old dog stage columns\n",
        "archive = archive.drop(['doggo', 'floofer', 'pupper', 'puppo'], axis=1)\n",
        "\n",
        "# 7. Keep only tweets that have images\n",
        "archive = archive[archive['tweet_id'].isin(image['tweet_id'])]\n",
        "\n",
        "# 8. Keep only dog predictions\n",
        "image = image[image['p1_dog'] == True]\n",
        "\n",
        "# 9. Select needed columns from tweet data\n",
        "tweet_clean = tweet[['tweet_id', 'retweet_count', 'favorite_count']]\n",
        "\n",
        "# 10. Merge all data together\n",
        "merge1 = pd.merge(archive, image, on='tweet_id')\n",
        "final = pd.merge(merge1, tweet_clean, on='tweet_id')\n",
        "\n",
        "# 11. Save final result\n",
        "final.to_csv('twitter_archive_master.csv', index=False)\n",
        "print(\"✅ File saved as: twitter_archive_master.csv\")\n"
      ]
    },
    {
      "cell_type": "markdown",
      "id": "9e72d668-ff49-4825-809d-c22c8ce5c7c7",
      "metadata": {
        "id": "9e72d668-ff49-4825-809d-c22c8ce5c7c7"
      },
      "source": [
        "# Visualisation"
      ]
    },
    {
      "cell_type": "code",
      "source": [
        "import pandas as pd\n",
        "\n",
        "# 1. Read the files\n",
        "archive = pd.read_csv('twitter-archive-enhanced (2).csv')\n",
        "image = pd.read_csv('image-predictions (2).tsv', sep='\\t')\n",
        "tweet = pd.read_json('tweet-json (1).json', lines=True)\n",
        "\n",
        "# 2. Clean 'archive' data\n",
        "archive = archive[archive['retweeted_status_id'].isna()]\n",
        "archive = archive[archive['in_reply_to_status_id'].isna()]\n",
        "archive.drop(['retweeted_status_id', 'retweeted_status_user_id',\n",
        "              'retweeted_status_timestamp', 'in_reply_to_status_id',\n",
        "              'in_reply_to_user_id'], axis=1, inplace=True)\n",
        "\n",
        "# 3. Format columns\n",
        "archive['tweet_id'] = archive['tweet_id'].astype(str)\n",
        "image['tweet_id'] = image['tweet_id'].astype(str)\n",
        "tweet['tweet_id'] = tweet['id_str'].astype(str)\n",
        "archive['timestamp'] = pd.to_datetime(archive['timestamp'])\n",
        "\n",
        "# 4. Combine dog stages into one column\n",
        "archive['dog_stage'] = archive[['doggo', 'floofer', 'pupper', 'puppo']].apply(\n",
        "    lambda row: ','.join([stage for stage in row.index if row[stage] == stage]), axis=1)\n",
        "archive.drop(['doggo', 'floofer', 'pupper', 'puppo'], axis=1, inplace=True)\n",
        "\n",
        "# 5. Filter data\n",
        "archive = archive[archive['tweet_id'].isin(image['tweet_id'])]\n",
        "image = image[image['p1_dog'] == True]\n",
        "tweet_clean = tweet[['tweet_id', 'retweet_count', 'favorite_count']]\n",
        "\n",
        "# 6. Merge everything\n",
        "df = pd.merge(archive, image, on='tweet_id')\n",
        "df = pd.merge(df, tweet_clean, on='tweet_id')\n",
        "\n",
        "# 7. Save the final CSV\n",
        "df.to_csv('twitter_archive_master.csv', index=False)\n",
        "print(\"✅ File saved: twitter_archive_master.csv\")"
      ],
      "metadata": {
        "id": "EgAXRGU3e_iJ"
      },
      "id": "EgAXRGU3e_iJ",
      "execution_count": null,
      "outputs": []
    },
    {
      "cell_type": "code",
      "execution_count": null,
      "id": "4c79a316-82c3-40af-b781-db7a87ff5b31",
      "metadata": {
        "id": "4c79a316-82c3-40af-b781-db7a87ff5b31"
      },
      "outputs": [],
      "source": [
        "df1.plot(kind='box', figsize=(8, 6), color={'boxes':'blue', 'whiskers':'black', 'medians':'red', 'caps':'gray'})\n",
        "plt.title(\"Box Plot\")\n",
        "plt.grid(True)\n",
        "plt.show()"
      ]
    },
    {
      "cell_type": "code",
      "execution_count": null,
      "id": "bf3fc6c6-c2cc-4362-9ef4-5e7105978cf1",
      "metadata": {
        "id": "bf3fc6c6-c2cc-4362-9ef4-5e7105978cf1"
      },
      "outputs": [],
      "source": [
        "df2.hist(figsize=(4,4))\n",
        "plt.tight_layout()\n",
        "plt.show()"
      ]
    },
    {
      "cell_type": "code",
      "execution_count": null,
      "id": "fdd9e099-81d7-40ce-9699-dcad848bc003",
      "metadata": {
        "id": "fdd9e099-81d7-40ce-9699-dcad848bc003"
      },
      "outputs": [],
      "source": [
        "# Create a histogram for the 'vote_average' column to visualize its distribution\n",
        "df1['tweet_id'].hist()\n",
        "\n",
        "# Set the label for the x-axis\n",
        "plt.xlabel('tweet_ide')\n",
        "\n",
        "# Set the label for the y-axis\n",
        "plt.ylabel('timestamp')\n",
        "\n",
        "# Set the title of the histogram\n",
        "plt.title('relation between tweet_id and timestamp')\n",
        "\n",
        "# Display the plot\n",
        "plt.show()"
      ]
    },
    {
      "cell_type": "code",
      "execution_count": null,
      "id": "e60ce101-5cf0-4e0c-9141-f146a5f89585",
      "metadata": {
        "id": "e60ce101-5cf0-4e0c-9141-f146a5f89585"
      },
      "outputs": [],
      "source": [
        "import matplotlib.pyplot as plt\n",
        "\n",
        "# Assuming 'df' is your DataFrame and 'rating_numerator' is the column\n",
        "plt.figure(figsize=(8, 5))\n",
        "df1['rating_numerator'].hist(bins=15, edgecolor='black')\n",
        "plt.title('Distribution of Dog Ratings')\n",
        "plt.xlabel('Rating')\n",
        "plt.ylabel('Number of Tweets')\n",
        "plt.savefig('rating_distribution.png')  # 👈 Saves the figure\n",
        "plt.show()\n"
      ]
    },
    {
      "cell_type": "code",
      "execution_count": null,
      "id": "80d4e3e6-bed3-4a85-96d7-ba9293c4c857",
      "metadata": {
        "id": "80d4e3e6-bed3-4a85-96d7-ba9293c4c857"
      },
      "outputs": [],
      "source": [
        "import matplotlib.pyplot as plt\n",
        "\n",
        "plt.figure(figsize=(8, 5))\n",
        "plt.scatter(df1['rating_denominator'], df1['rating_numerator'], alpha=0.6, color='teal')\n",
        "plt.title('Rating Numerator vs Denominator')\n",
        "plt.xlabel('Rating Denominator')\n",
        "plt.ylabel('Rating Numerator')\n",
        "plt.grid(True)\n",
        "plt.savefig('rating_scatter.png')\n",
        "plt.show()\n",
        "\n"
      ]
    },
    {
      "cell_type": "code",
      "execution_count": null,
      "id": "18393d27-b557-4fa6-ab79-2aa82e23b5a9",
      "metadata": {
        "id": "18393d27-b557-4fa6-ab79-2aa82e23b5a9"
      },
      "outputs": [],
      "source": [
        "print(df1.columns)\n",
        "\n"
      ]
    },
    {
      "cell_type": "code",
      "execution_count": null,
      "id": "9c3c6ae6-0621-492a-acc3-f74d78675515",
      "metadata": {
        "id": "9c3c6ae6-0621-492a-acc3-f74d78675515"
      },
      "outputs": [],
      "source": [
        "import matplotlib.pyplot as plt\n",
        "\n",
        "# Count occurrences of each dog stage (exclude 'None')\n",
        "stage_counts = df1[['doggo', 'floofer', 'pupper', 'puppo']].apply(lambda x: x[x != 'None'].count())\n",
        "\n",
        "# Plotting\n",
        "stage_counts.plot(kind='bar', color='skyblue', edgecolor='black', figsize=(8, 5))\n",
        "plt.title('Distribution of Dog Stages')\n",
        "plt.xlabel('Dog Stage')\n",
        "plt.ylabel('Count')\n",
        "plt.xticks(rotation=0)\n",
        "plt.tight_layout()\n",
        "\n",
        "# Save the figure\n",
        "plt.savefig('dog_stages.png')\n",
        "\n",
        "# Show the plot\n",
        "plt.show()\n"
      ]
    }
  ],
  "metadata": {
    "colab": {
      "provenance": [],
      "toc_visible": true,
      "include_colab_link": true
    },
    "kernelspec": {
      "display_name": "Python (Pyodide)",
      "language": "python",
      "name": "python"
    },
    "language_info": {
      "codemirror_mode": {
        "name": "python",
        "version": 3
      },
      "file_extension": ".py",
      "mimetype": "text/x-python",
      "name": "python",
      "nbconvert_exporter": "python",
      "pygments_lexer": "ipython3",
      "version": "3.8"
    }
  },
  "nbformat": 4,
  "nbformat_minor": 5
}